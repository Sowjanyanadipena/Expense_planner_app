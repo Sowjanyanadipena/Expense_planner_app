{
  "nbformat": 4,
  "nbformat_minor": 0,
  "metadata": {
    "colab": {
      "provenance": []
    },
    "kernelspec": {
      "name": "python3",
      "display_name": "Python 3"
    },
    "language_info": {
      "name": "python"
    }
  },
  "cells": [
    {
      "cell_type": "code",
      "execution_count": null,
      "metadata": {
        "colab": {
          "base_uri": "https://localhost:8080/",
          "height": 438
        },
        "id": "rIyZ46Vb9wJR",
        "outputId": "d6773a56-39da-4039-e713-f9da1148843e"
      },
      "outputs": [
        {
          "name": "stdout",
          "output_type": "stream",
          "text": [
            "Enter date (YYYY-MM-DD): 2024-07-21\n",
            "Category (Food, Travel, etc.): Biryani\n",
            "Amount: 300\n",
            "Optional note: FREE PEPSI\n"
          ]
        },
        {
          "output_type": "error",
          "ename": "AttributeError",
          "evalue": "'DataFrame' object has no attribute 'append'",
          "traceback": [
            "\u001b[0;31m---------------------------------------------------------------------------\u001b[0m",
            "\u001b[0;31mAttributeError\u001b[0m                            Traceback (most recent call last)",
            "\u001b[0;32m/tmp/ipython-input-1-1964466266.py\u001b[0m in \u001b[0;36m<cell line: 0>\u001b[0;34m()\u001b[0m\n\u001b[1;32m     31\u001b[0m \u001b[0;34m\u001b[0m\u001b[0m\n\u001b[1;32m     32\u001b[0m \u001b[0;31m# Example run\u001b[0m\u001b[0;34m\u001b[0m\u001b[0;34m\u001b[0m\u001b[0m\n\u001b[0;32m---> 33\u001b[0;31m \u001b[0madd_expense\u001b[0m\u001b[0;34m(\u001b[0m\u001b[0;34m)\u001b[0m\u001b[0;34m\u001b[0m\u001b[0;34m\u001b[0m\u001b[0m\n\u001b[0m\u001b[1;32m     34\u001b[0m \u001b[0mview_summary\u001b[0m\u001b[0;34m(\u001b[0m\u001b[0;34m)\u001b[0m\u001b[0;34m\u001b[0m\u001b[0;34m\u001b[0m\u001b[0m\n",
            "\u001b[0;32m/tmp/ipython-input-1-1964466266.py\u001b[0m in \u001b[0;36madd_expense\u001b[0;34m()\u001b[0m\n\u001b[1;32m     18\u001b[0m     \u001b[0mnew_entry\u001b[0m \u001b[0;34m=\u001b[0m \u001b[0;34m{\u001b[0m\u001b[0;34m\"Date\"\u001b[0m\u001b[0;34m:\u001b[0m \u001b[0mdate\u001b[0m\u001b[0;34m,\u001b[0m \u001b[0;34m\"Category\"\u001b[0m\u001b[0;34m:\u001b[0m \u001b[0mcategory\u001b[0m\u001b[0;34m,\u001b[0m \u001b[0;34m\"Amount\"\u001b[0m\u001b[0;34m:\u001b[0m \u001b[0mamount\u001b[0m\u001b[0;34m,\u001b[0m \u001b[0;34m\"Note\"\u001b[0m\u001b[0;34m:\u001b[0m \u001b[0mnote\u001b[0m\u001b[0;34m}\u001b[0m\u001b[0;34m\u001b[0m\u001b[0;34m\u001b[0m\u001b[0m\n\u001b[1;32m     19\u001b[0m     \u001b[0;32mglobal\u001b[0m \u001b[0mexpenses\u001b[0m\u001b[0;34m\u001b[0m\u001b[0;34m\u001b[0m\u001b[0m\n\u001b[0;32m---> 20\u001b[0;31m     \u001b[0mexpenses\u001b[0m \u001b[0;34m=\u001b[0m \u001b[0mexpenses\u001b[0m\u001b[0;34m.\u001b[0m\u001b[0mappend\u001b[0m\u001b[0;34m(\u001b[0m\u001b[0mnew_entry\u001b[0m\u001b[0;34m,\u001b[0m \u001b[0mignore_index\u001b[0m\u001b[0;34m=\u001b[0m\u001b[0;32mTrue\u001b[0m\u001b[0;34m)\u001b[0m\u001b[0;34m\u001b[0m\u001b[0;34m\u001b[0m\u001b[0m\n\u001b[0m\u001b[1;32m     21\u001b[0m     \u001b[0mexpenses\u001b[0m\u001b[0;34m.\u001b[0m\u001b[0mto_csv\u001b[0m\u001b[0;34m(\u001b[0m\u001b[0;34m\"expenses.csv\"\u001b[0m\u001b[0;34m,\u001b[0m \u001b[0mindex\u001b[0m\u001b[0;34m=\u001b[0m\u001b[0;32mFalse\u001b[0m\u001b[0;34m)\u001b[0m\u001b[0;34m\u001b[0m\u001b[0;34m\u001b[0m\u001b[0m\n\u001b[1;32m     22\u001b[0m     \u001b[0mprint\u001b[0m\u001b[0;34m(\u001b[0m\u001b[0;34m\"✅ Expense added.\"\u001b[0m\u001b[0;34m)\u001b[0m\u001b[0;34m\u001b[0m\u001b[0;34m\u001b[0m\u001b[0m\n",
            "\u001b[0;32m/usr/local/lib/python3.11/dist-packages/pandas/core/generic.py\u001b[0m in \u001b[0;36m__getattr__\u001b[0;34m(self, name)\u001b[0m\n\u001b[1;32m   6297\u001b[0m         ):\n\u001b[1;32m   6298\u001b[0m             \u001b[0;32mreturn\u001b[0m \u001b[0mself\u001b[0m\u001b[0;34m[\u001b[0m\u001b[0mname\u001b[0m\u001b[0;34m]\u001b[0m\u001b[0;34m\u001b[0m\u001b[0;34m\u001b[0m\u001b[0m\n\u001b[0;32m-> 6299\u001b[0;31m         \u001b[0;32mreturn\u001b[0m \u001b[0mobject\u001b[0m\u001b[0;34m.\u001b[0m\u001b[0m__getattribute__\u001b[0m\u001b[0;34m(\u001b[0m\u001b[0mself\u001b[0m\u001b[0;34m,\u001b[0m \u001b[0mname\u001b[0m\u001b[0;34m)\u001b[0m\u001b[0;34m\u001b[0m\u001b[0;34m\u001b[0m\u001b[0m\n\u001b[0m\u001b[1;32m   6300\u001b[0m \u001b[0;34m\u001b[0m\u001b[0m\n\u001b[1;32m   6301\u001b[0m     \u001b[0;34m@\u001b[0m\u001b[0mfinal\u001b[0m\u001b[0;34m\u001b[0m\u001b[0;34m\u001b[0m\u001b[0m\n",
            "\u001b[0;31mAttributeError\u001b[0m: 'DataFrame' object has no attribute 'append'"
          ]
        }
      ],
      "source": [
        "import pandas as pd\n",
        "import matplotlib.pyplot as plt\n",
        "from datetime import datetime\n",
        "\n",
        "# Initialize or load existing CSV\n",
        "try:\n",
        "    expenses = pd.read_csv(\"expenses.csv\")\n",
        "except FileNotFoundError:\n",
        "    expenses = pd.DataFrame(columns=[\"Date\", \"Category\", \"Amount\", \"Note\"])\n",
        "\n",
        "# Add new expense\n",
        "def add_expense():\n",
        "    date = input(\"Enter date (YYYY-MM-DD): \")\n",
        "    category = input(\"Category (Food, Travel, etc.): \")\n",
        "    amount = float(input(\"Amount: \"))\n",
        "    note = input(\"Optional note: \")\n",
        "\n",
        "    new_entry = {\"Date\": date, \"Category\": category, \"Amount\": amount, \"Note\": note}\n",
        "    global expenses\n",
        "    expenses = expenses.append(new_entry, ignore_index=True)\n",
        "    expenses.to_csv(\"expenses.csv\", index=False)\n",
        "    print(\"✅ Expense added.\")\n",
        "\n",
        "# View summary\n",
        "def view_summary():\n",
        "    print(\"\\n📊 Expense Summary by Category:\")\n",
        "    print(expenses.groupby(\"Category\")[\"Amount\"].sum())\n",
        "    expenses.groupby(\"Category\")[\"Amount\"].sum().plot(kind=\"bar\")\n",
        "    plt.title(\"Expenses by Category\")\n",
        "    plt.show()\n",
        "\n",
        "# Example run\n",
        "add_expense()\n",
        "view_summary()"
      ]
    },
    {
      "cell_type": "code",
      "source": [
        "import pandas as pd\n",
        "import matplotlib.pyplot as plt\n",
        "from datetime import datetime\n",
        "\n",
        "# Initialize or load existing CSV\n",
        "try:\n",
        "    expenses = pd.read_csv(\"expenses.csv\")\n",
        "except FileNotFoundError:\n",
        "    expenses = pd.DataFrame(columns=[\"Date\", \"Category\", \"Amount\", \"Note\"])\n",
        "\n",
        "# Function to add expense\n",
        "def add_expense():\n",
        "    date = input(\"Enter date (YYYY-MM-DD): \")\n",
        "    category = input(\"Category (Food, Travel, Etc.): \")\n",
        "    amount = float(input(\"Amount: \"))\n",
        "    note = input(\"Optional note: \")\n",
        "\n",
        "    new_entry = {\"Date\": date, \"Category\": category, \"Amount\": amount, \"Note\": note}\n",
        "    global expenses\n",
        "    expenses = pd.concat([expenses, pd.DataFrame([new_entry])], ignore_index=True)\n",
        "    expenses.to_csv(\"expenses.csv\", index=False)\n",
        "    print(\"✅ Expense added.\")\n",
        "\n",
        "# Function to show summary\n",
        "def view_summary():\n",
        "    print(\"\\n📊 Expense Summary by Category:\")\n",
        "    print(expenses.groupby(\"Category\")[\"Amount\"].sum())\n",
        "    expenses.groupby(\"Category\")[\"Amount\"].sum().plot(kind=\"bar\")\n",
        "    plt.title(\"Expenses by Category\")\n",
        "    plt.ylabel(\"Amount\")\n",
        "    plt.xlabel(\"Category\")\n",
        "    plt.tight_layout()\n",
        "    plt.show()\n",
        "\n",
        "# Example run\n",
        "add_expense()\n",
        "view_summary()"
      ],
      "metadata": {
        "colab": {
          "base_uri": "https://localhost:8080/",
          "height": 733
        },
        "id": "OKqR8haI-bm0",
        "outputId": "912d905b-85ce-49cc-b5ff-8d5480027ebf"
      },
      "execution_count": null,
      "outputs": [
        {
          "name": "stdout",
          "output_type": "stream",
          "text": [
            "Enter date (YYYY-MM-DD): 2023-09-22\n",
            "Category (Food, Travel, Etc.): Biryani\n",
            "Amount: 400\n",
            "Optional note: Free Drink\n"
          ]
        },
        {
          "output_type": "stream",
          "name": "stderr",
          "text": [
            "/tmp/ipython-input-2-2993926379.py:20: FutureWarning: The behavior of DataFrame concatenation with empty or all-NA entries is deprecated. In a future version, this will no longer exclude empty or all-NA columns when determining the result dtypes. To retain the old behavior, exclude the relevant entries before the concat operation.\n",
            "  expenses = pd.concat([expenses, pd.DataFrame([new_entry])], ignore_index=True)\n"
          ]
        },
        {
          "output_type": "stream",
          "name": "stdout",
          "text": [
            "✅ Expense added.\n",
            "\n",
            "📊 Expense Summary by Category:\n",
            "Category\n",
            "Biryani    400.0\n",
            "Name: Amount, dtype: float64\n"
          ]
        },
        {
          "output_type": "display_data",
          "data": {
            "text/plain": [
              "<Figure size 640x480 with 1 Axes>"
            ],
            "image/png": "[encoded data removed]"
          },
          "metadata": {}
        }
      ]
    }
  ]
}